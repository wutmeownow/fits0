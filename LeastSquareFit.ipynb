{
 "cells": [
  {
   "cell_type": "markdown",
   "metadata": {},
   "source": [
    "# Least Squares Fitting\n",
    "This example describes a linear least-squares analysis.\n",
    "  * The code is loosely based on the example: https://root.cern/doc/master/solveLinear_8C.html\n",
    "  * Many detailed references are avilaible for the least squares technique, for example see: http://vmls-book.stanford.edu/vmls.pdf\n",
    "\n",
    "Linear regression can be used to solve for ($k$) unknown parameters ($\\theta$) in a model of the form:\n",
    "\n",
    "$\\hat f(x; \\vec\\theta) = \\theta_1*f_1(x) + \\theta_2*f_2(x) + \\theta_3*f_3(x) + ... + \\theta_k*f_k(x)$,<br>\n",
    "where the $f_i(x)$ can be arbitrary functions of $x$, but each term $\\theta_i*f_i(x)$ can only depend linearly on the parameters, $\\frac{\\partial^2 f(x)}{\\partial \\theta_{i}^2} = 0$.<br>\n",
    "For a given $x$, our predicted outcome is $\\hat y = \\hat f(x)$.\n",
    "\n",
    "Let's assume we have vectors of $n$ measurements $x_i$, then $y_i \\equiv \\hat f(x_i) = \\hat y_i$, where the equivalence is true to a good approximatation if the model is a good representation of our data.  To find the model $\\hat f$ that it is most consistent with our data, we will minimze (a function of) the residuals for each data point $r_i=y_i−\\hat y_i$.\n",
    "\n",
    "Define the vectors: \n",
    "  * $y^d= (y_1,...,y_n)$ : values of dependent variables measured in data, our observations\n",
    "  * $\\hat y^d= (\\hat y_1,...,\\hat y_n)$ : expected values of the observations, given our model\n",
    "  * $r^d= (r_1,...,r_n)$ : residuals between the data and model\n",
    "  \n",
    "For a least squares fitting model, we want to find the parameters $\\vec\\theta$ that minimize the sum of squares of the prediction error.  In performing this calculation we will weight the residuals by the inverse of the uncertainy in each measurement.  As discussed in class, the uncertainties follow a normal distribution and this is equivalent to minimizing the $\\chi^2$ value.\n",
    "\n",
    "Each measurement gives us information about the unknown parameters $\\vec \\theta$.  We can write the expectation for our model for each $x_i$ as:<br>\n",
    "$\\hat f(x_i; \\vec \\theta) = \\hat y(x_i)= A_{i1}\\theta_1 + A_{i2}\\theta_2 + ... + A_{ik}\\theta_k,~ i=1,...,n$,<br>\n",
    "where we define the $n×k$ matrix $A$ as $A_{ij}=f_j(x_i),  i= 1,...,n, ~ j= 1,...,k$.\n",
    "\n",
    "Writing this in matrix notation gives :<br>\n",
    "$\\hat y^d = {\\bf A}\\,\\vec θ$\n",
    "\n",
    "The sum of squares of the residuals is then \n",
    "$|r^d|^2 = |y^d−\\hat y^d|^2 = |y^d−{\\bf A}\\,\\vec θ|^2$, which is the quantity we want to minimze by requiring:\n",
    "$\\frac{\\partial |r^d|^2} {\\partial \\theta_i} = \\frac{\\partial  |y^d−{\\bf A}\\,\\vec θ|^2 } {\\partial \\theta_i} = 0 $.\n",
    "\n",
    "# Example: solution to linear fit for 1st order polynomial: y = a + bx\n",
    "\n",
    "Where we include the following four data points in the fit:<br>\n",
    "$x$ = {0.0,1.0,2.0,3.0}<br>\n",
    "$y^d$ = {1.4,1.5,3.7,4.1}<br>\n",
    "$\\sigma^d$ = {0.5,0.2,1.0,0.5}\n",
    "\n",
    "Using the notation above, we have \n",
    "$\\hat y^d = {\\bf A}\\,\\vec θ$, and writing out the terms explicitly gives:\n",
    "\n",
    "$\\vec θ = \\begin{pmatrix} a \\\\ b \\end{pmatrix}$, $f_1(x_i) = 1, f_2(x_i)=x_i$, eg. $y = a + bx$<br>\n",
    "$y^d = \\begin{pmatrix} y_1 \\\\ y_2 \\\\ y_3 \\\\ y_4 \\end{pmatrix}$, \n",
    "${\\bf A} =\n",
    "\\begin{pmatrix} \n",
    "A_{11} & A_{12} \\\\\n",
    "A_{21} & A_{22} \\\\ \n",
    "A_{31} & A_{32} \\\\\n",
    "A_{41} & A_{42}\n",
    "\\end{pmatrix} =\n",
    "\\begin{pmatrix} \n",
    "f_1(x_1) & f_2(x_1) \\\\ \n",
    "f_1(x_2) & f_2(x_2) \\\\ \n",
    "f_1(x_3) & f_2(x_3) \\\\ \n",
    "f_1(x_4) & f_2(x_4) \n",
    "\\end{pmatrix}$\n",
    "\"N_parameters\" wide, \"N_data_points\" deep.\n",
    "\n",
    "To be explicit, $\\hat y^d = {\\bf A}\\,\\vec θ$, so:\n",
    "\n",
    "$ \\begin{pmatrix} \n",
    "f_1(x_1) & f_2(x_1) \\\\ \n",
    "f_1(x_2) & f_2(x_2) \\\\ \n",
    "f_1(x_3) & f_2(x_3) \\\\ \n",
    "f_1(x_4) & f_2(x_4) \n",
    "\\end{pmatrix}$\n",
    "$\\begin{pmatrix} a \\\\ b \\end{pmatrix} = $\n",
    "$\\begin{pmatrix} \n",
    "a + bx_1 \\\\ \n",
    "a + bx_2 \\\\ \n",
    "a + bx_3 \\\\ \n",
    "a + bx_4 \\\\ \n",
    "\\end{pmatrix}=\n",
    "\\begin{pmatrix} \n",
    "\\hat y_1 \\\\ \n",
    "\\hat y_2 \\\\ \n",
    "\\hat y_3 \\\\ \n",
    "\\hat y_4 \\\\ \n",
    "\\end{pmatrix}\n",
    "=\\hat y^d $\n",
    "\n",
    "and using:\n",
    "\n",
    "$|r^d|^2 = |y^d - \\hat y^d|^2 = |y^d−{\\bf A}\\,\\vec θ|^2$, where we require: $\\frac{\\partial |r^d|^2} {\\partial \\theta_i} =0 $\n",
    "\n",
    "we have the following system of equations to solve:\n",
    "\n",
    "$ 0 = -2 \\sum_i [ y^d_i - f_1(x_i)\\theta_1 - f_2(x_i)\\theta_2 ] f_1(x_i) $ <br>\n",
    "$ 0 = -2 \\sum_i [ y^d_i - f_1(x_i)\\theta_1 - f_2(x_i)\\theta_2 ] f_2(x_i) $ <br>\n",
    "or $ 0 = (y^d - {\\bf A}\\vec\\theta){\\bf A}^T$ <br>\n",
    "For $\\chi^2$ minimization, we just multiply ${\\bf A}$ and $y^d$ by $\\frac{1}{\\sigma^d}$.  In other words $|r^d|^2=\\chi^2$.\n",
    "\n",
    "Provided the columns of ${\\bf A}$ are linearly independent, we can solve this least squares problem to find $\\vec\\theta$, the model parameter values that minimize above prediction error for our data set, using:<br>\n",
    "$\\vec\\theta = ({\\bf A}^T{\\bf A})^{-1} {\\bf A}^T y^d={\\bf A}^\\dagger y^d$"
   ]
  },
  {
   "cell_type": "markdown",
   "metadata": {},
   "source": [
    "This example uses the following ROOT classes that may be new to you:\n",
    "  * TMatrixD: a matrix of doubles.  Its methods are documented in the base class [TMatrixT](https://root.cern.ch/doc/master/TMatrixT_8h.html)\n",
    "  * TVectorD: a vector of doubles.  Its methods are documented in the base class [TVectorT](https://root.cern.ch/doc/master/classTVectorT.html)\n",
    "  * [TGraphErrors](https://root.cern.ch/doc/master/classTGraphErrors.html): A version of TGraph that supports the drawing of errorbars\n",
    "\n",
    "**This notebook is written in C++ using the \"%%cpp magick\" to convert cells from interpreting python to interpreting C++.  You can always access variables from the C++ side in python using the form R.var.  See the example at the bottom of this notebook.  You will probably find working on the notebook with C++ to be awkward, see the description of the exercice below for starter code that you can run outside the notebook.**  "
   ]
  },
  {
   "cell_type": "code",
   "execution_count": 10,
   "metadata": {},
   "outputs": [],
   "source": [
    "import ROOT as R"
   ]
  },
  {
   "cell_type": "code",
   "execution_count": 11,
   "metadata": {},
   "outputs": [],
   "source": [
    "%%cpp -d\n",
    "#include \"Riostream.h\"\n",
    "#include \"TMatrixD.h\"\n",
    "#include \"TVectorD.h\"\n",
    "#include \"TGraphErrors.h\"\n",
    "#include \"TF1.h\"\n",
    "#include \"TH1F.h\"\n",
    "#include \"TH2F.h\""
   ]
  },
  {
   "cell_type": "markdown",
   "metadata": {},
   "source": [
    "SolveLSQ returns:\n",
    "$\\vec\\theta = ({\\bf A}^T{\\bf A})^{-1} {\\bf A}^T y^d={\\bf A}^\\dagger y^d$<br>\n",
    "For the $\\chi^2$ minimization, ${\\bf A}$ and $y^d$ are assumed to be weighted by the measurement uncertinties."
   ]
  },
  {
   "cell_type": "code",
   "execution_count": 12,
   "metadata": {},
   "outputs": [],
   "source": [
    "%%cpp -d\n",
    "TMatrixD SolveLSQ(const TMatrixD &A, const TMatrixD &y){\n",
    "  TMatrixD AT=(A);  \n",
    "  AT.T();            // A transpose\n",
    "  TMatrixD ATAi(AT,TMatrixD::kMult,A);\n",
    "  ATAi.Invert();\n",
    "  TMatrixD Adag(ATAi,TMatrixD::kMult,AT);  // (A^T A)^(-1) A^T\n",
    "  TMatrixD theta(Adag,TMatrixD::kMult,y);  // (A^T A)^(-1) A^T * y\n",
    "  return theta;\n",
    "}"
   ]
  },
  {
   "cell_type": "code",
   "execution_count": 13,
   "metadata": {},
   "outputs": [
    {
     "ename": "KeyboardInterrupt",
     "evalue": "",
     "output_type": "error",
     "traceback": [
      "\u001b[0;31m---------------------------------------------------------------------------\u001b[0m",
      "\u001b[0;31mKeyboardInterrupt\u001b[0m                         Traceback (most recent call last)",
      "Cell \u001b[0;32mIn[13], line 3\u001b[0m\n\u001b[1;32m      1\u001b[0m \u001b[38;5;28;01mimport\u001b[39;00m \u001b[38;5;21;01mnumpy\u001b[39;00m \u001b[38;5;28;01mas\u001b[39;00m \u001b[38;5;21;01mnp\u001b[39;00m\n\u001b[1;32m      2\u001b[0m \u001b[38;5;28;01mfrom\u001b[39;00m \u001b[38;5;21;01mnumpy\u001b[39;00m\u001b[38;5;21;01m.\u001b[39;00m\u001b[38;5;21;01mlinalg\u001b[39;00m \u001b[38;5;28;01mimport\u001b[39;00m inv\n\u001b[0;32m----> 3\u001b[0m \u001b[38;5;28;01mfrom\u001b[39;00m \u001b[38;5;21;01mmatplotlib\u001b[39;00m \u001b[38;5;28;01mimport\u001b[39;00m pyplot \u001b[38;5;28;01mas\u001b[39;00m plt \n",
      "File \u001b[0;32m/sfs/ceph/standard/phys56xx/miniforge3/envs/phys56xx/lib/python3.10/site-packages/matplotlib/__init__.py:159\u001b[0m\n\u001b[1;32m    155\u001b[0m \u001b[38;5;28;01mfrom\u001b[39;00m \u001b[38;5;21;01mpackaging\u001b[39;00m\u001b[38;5;21;01m.\u001b[39;00m\u001b[38;5;21;01mversion\u001b[39;00m \u001b[38;5;28;01mimport\u001b[39;00m parse \u001b[38;5;28;01mas\u001b[39;00m parse_version\n\u001b[1;32m    157\u001b[0m \u001b[38;5;66;03m# cbook must import matplotlib only within function\u001b[39;00m\n\u001b[1;32m    158\u001b[0m \u001b[38;5;66;03m# definitions, so it is safe to import from it here.\u001b[39;00m\n\u001b[0;32m--> 159\u001b[0m \u001b[38;5;28;01mfrom\u001b[39;00m \u001b[38;5;21;01m.\u001b[39;00m \u001b[38;5;28;01mimport\u001b[39;00m _api, _version, cbook, _docstring, rcsetup\n\u001b[1;32m    160\u001b[0m \u001b[38;5;28;01mfrom\u001b[39;00m \u001b[38;5;21;01mmatplotlib\u001b[39;00m\u001b[38;5;21;01m.\u001b[39;00m\u001b[38;5;21;01mcbook\u001b[39;00m \u001b[38;5;28;01mimport\u001b[39;00m sanitize_sequence\n\u001b[1;32m    161\u001b[0m \u001b[38;5;28;01mfrom\u001b[39;00m \u001b[38;5;21;01mmatplotlib\u001b[39;00m\u001b[38;5;21;01m.\u001b[39;00m\u001b[38;5;21;01m_api\u001b[39;00m \u001b[38;5;28;01mimport\u001b[39;00m MatplotlibDeprecationWarning\n",
      "File \u001b[0;32m/sfs/ceph/standard/phys56xx/miniforge3/envs/phys56xx/lib/python3.10/site-packages/matplotlib/rcsetup.py:29\u001b[0m\n\u001b[1;32m     27\u001b[0m \u001b[38;5;28;01mfrom\u001b[39;00m \u001b[38;5;21;01mmatplotlib\u001b[39;00m\u001b[38;5;21;01m.\u001b[39;00m\u001b[38;5;21;01mcbook\u001b[39;00m \u001b[38;5;28;01mimport\u001b[39;00m ls_mapper\n\u001b[1;32m     28\u001b[0m \u001b[38;5;28;01mfrom\u001b[39;00m \u001b[38;5;21;01mmatplotlib\u001b[39;00m\u001b[38;5;21;01m.\u001b[39;00m\u001b[38;5;21;01mcolors\u001b[39;00m \u001b[38;5;28;01mimport\u001b[39;00m Colormap, is_color_like\n\u001b[0;32m---> 29\u001b[0m \u001b[38;5;28;01mfrom\u001b[39;00m \u001b[38;5;21;01mmatplotlib\u001b[39;00m\u001b[38;5;21;01m.\u001b[39;00m\u001b[38;5;21;01m_fontconfig_pattern\u001b[39;00m \u001b[38;5;28;01mimport\u001b[39;00m parse_fontconfig_pattern\n\u001b[1;32m     30\u001b[0m \u001b[38;5;28;01mfrom\u001b[39;00m \u001b[38;5;21;01mmatplotlib\u001b[39;00m\u001b[38;5;21;01m.\u001b[39;00m\u001b[38;5;21;01m_enums\u001b[39;00m \u001b[38;5;28;01mimport\u001b[39;00m JoinStyle, CapStyle\n\u001b[1;32m     32\u001b[0m \u001b[38;5;66;03m# Don't let the original cycler collide with our validating cycler\u001b[39;00m\n",
      "File \u001b[0;32m/sfs/ceph/standard/phys56xx/miniforge3/envs/phys56xx/lib/python3.10/site-packages/matplotlib/_fontconfig_pattern.py:15\u001b[0m\n\u001b[1;32m     12\u001b[0m \u001b[38;5;28;01mfrom\u001b[39;00m \u001b[38;5;21;01mfunctools\u001b[39;00m \u001b[38;5;28;01mimport\u001b[39;00m lru_cache, partial\n\u001b[1;32m     13\u001b[0m \u001b[38;5;28;01mimport\u001b[39;00m \u001b[38;5;21;01mre\u001b[39;00m\n\u001b[0;32m---> 15\u001b[0m \u001b[38;5;28;01mfrom\u001b[39;00m \u001b[38;5;21;01mpyparsing\u001b[39;00m \u001b[38;5;28;01mimport\u001b[39;00m (\n\u001b[1;32m     16\u001b[0m     Group, Optional, ParseException, Regex, StringEnd, Suppress, ZeroOrMore, oneOf)\n\u001b[1;32m     19\u001b[0m _family_punc \u001b[38;5;241m=\u001b[39m \u001b[38;5;124mr\u001b[39m\u001b[38;5;124m'\u001b[39m\u001b[38;5;130;01m\\\\\u001b[39;00m\u001b[38;5;124m\\\u001b[39m\u001b[38;5;124m-:,\u001b[39m\u001b[38;5;124m'\u001b[39m\n\u001b[1;32m     20\u001b[0m _family_unescape \u001b[38;5;241m=\u001b[39m partial(re\u001b[38;5;241m.\u001b[39mcompile(\u001b[38;5;124mr\u001b[39m\u001b[38;5;124m'\u001b[39m\u001b[38;5;130;01m\\\\\u001b[39;00m\u001b[38;5;124m(?=[\u001b[39m\u001b[38;5;132;01m%s\u001b[39;00m\u001b[38;5;124m])\u001b[39m\u001b[38;5;124m'\u001b[39m \u001b[38;5;241m%\u001b[39m _family_punc)\u001b[38;5;241m.\u001b[39msub, \u001b[38;5;124m'\u001b[39m\u001b[38;5;124m'\u001b[39m)\n",
      "File \u001b[0;32m/sfs/ceph/standard/phys56xx/miniforge3/envs/phys56xx/lib/python3.10/site-packages/pyparsing/__init__.py:132\u001b[0m\n\u001b[1;32m    130\u001b[0m \u001b[38;5;28;01mfrom\u001b[39;00m \u001b[38;5;21;01m.\u001b[39;00m\u001b[38;5;21;01mexceptions\u001b[39;00m \u001b[38;5;28;01mimport\u001b[39;00m \u001b[38;5;241m*\u001b[39m\n\u001b[1;32m    131\u001b[0m \u001b[38;5;28;01mfrom\u001b[39;00m \u001b[38;5;21;01m.\u001b[39;00m\u001b[38;5;21;01mactions\u001b[39;00m \u001b[38;5;28;01mimport\u001b[39;00m \u001b[38;5;241m*\u001b[39m\n\u001b[0;32m--> 132\u001b[0m \u001b[38;5;28;01mfrom\u001b[39;00m \u001b[38;5;21;01m.\u001b[39;00m\u001b[38;5;21;01mcore\u001b[39;00m \u001b[38;5;28;01mimport\u001b[39;00m __diag__, __compat__\n\u001b[1;32m    133\u001b[0m \u001b[38;5;28;01mfrom\u001b[39;00m \u001b[38;5;21;01m.\u001b[39;00m\u001b[38;5;21;01mresults\u001b[39;00m \u001b[38;5;28;01mimport\u001b[39;00m \u001b[38;5;241m*\u001b[39m\n\u001b[1;32m    134\u001b[0m \u001b[38;5;28;01mfrom\u001b[39;00m \u001b[38;5;21;01m.\u001b[39;00m\u001b[38;5;21;01mcore\u001b[39;00m \u001b[38;5;28;01mimport\u001b[39;00m \u001b[38;5;241m*\u001b[39m  \u001b[38;5;66;03m# type: ignore[misc, assignment]\u001b[39;00m\n",
      "File \u001b[0;32m/sfs/ceph/standard/phys56xx/miniforge3/envs/phys56xx/lib/python3.10/site-packages/pyparsing/core.py:50\u001b[0m\n\u001b[1;32m     48\u001b[0m \u001b[38;5;28;01mfrom\u001b[39;00m \u001b[38;5;21;01m.\u001b[39;00m\u001b[38;5;21;01mexceptions\u001b[39;00m \u001b[38;5;28;01mimport\u001b[39;00m \u001b[38;5;241m*\u001b[39m\n\u001b[1;32m     49\u001b[0m \u001b[38;5;28;01mfrom\u001b[39;00m \u001b[38;5;21;01m.\u001b[39;00m\u001b[38;5;21;01mactions\u001b[39;00m \u001b[38;5;28;01mimport\u001b[39;00m \u001b[38;5;241m*\u001b[39m\n\u001b[0;32m---> 50\u001b[0m \u001b[38;5;28;01mfrom\u001b[39;00m \u001b[38;5;21;01m.\u001b[39;00m\u001b[38;5;21;01mresults\u001b[39;00m \u001b[38;5;28;01mimport\u001b[39;00m ParseResults, _ParseResultsWithOffset\n\u001b[1;32m     51\u001b[0m \u001b[38;5;28;01mfrom\u001b[39;00m \u001b[38;5;21;01m.\u001b[39;00m\u001b[38;5;21;01municode\u001b[39;00m \u001b[38;5;28;01mimport\u001b[39;00m pyparsing_unicode\n\u001b[1;32m     53\u001b[0m _MAX_INT \u001b[38;5;241m=\u001b[39m sys\u001b[38;5;241m.\u001b[39mmaxsize\n",
      "File \u001b[0;32m<frozen importlib._bootstrap>:1027\u001b[0m, in \u001b[0;36m_find_and_load\u001b[0;34m(name, import_)\u001b[0m\n",
      "File \u001b[0;32m<frozen importlib._bootstrap>:1006\u001b[0m, in \u001b[0;36m_find_and_load_unlocked\u001b[0;34m(name, import_)\u001b[0m\n",
      "File \u001b[0;32m<frozen importlib._bootstrap>:688\u001b[0m, in \u001b[0;36m_load_unlocked\u001b[0;34m(spec)\u001b[0m\n",
      "File \u001b[0;32m<frozen importlib._bootstrap_external>:879\u001b[0m, in \u001b[0;36mexec_module\u001b[0;34m(self, module)\u001b[0m\n",
      "File \u001b[0;32m<frozen importlib._bootstrap_external>:975\u001b[0m, in \u001b[0;36mget_code\u001b[0;34m(self, fullname)\u001b[0m\n",
      "File \u001b[0;32m<frozen importlib._bootstrap_external>:1074\u001b[0m, in \u001b[0;36mget_data\u001b[0;34m(self, path)\u001b[0m\n",
      "\u001b[0;31mKeyboardInterrupt\u001b[0m: "
     ]
    }
   ],
   "source": [
    "import numpy as np\n",
    "from numpy.linalg import inv\n",
    "from matplotlib import pyplot as plt "
   ]
  },
  {
   "cell_type": "markdown",
   "metadata": {},
   "source": [
    "Define the input data"
   ]
  },
  {
   "cell_type": "code",
   "execution_count": null,
   "metadata": {
    "tags": []
   },
   "outputs": [
    {
     "name": "stdout",
     "output_type": "stream",
     "text": [
      "Perform the fit  y = a + b * x \n"
     ]
    },
    {
     "data": {
      "text/plain": [
       "<ErrorbarContainer object of 3 artists>"
      ]
     },
     "execution_count": 10,
     "metadata": {},
     "output_type": "execute_result"
    },
    {
     "data": {
      "image/png": "[encoded data removed]",
      "text/plain": [
       "<Figure size 640x480 with 1 Axes>"
      ]
     },
     "metadata": {},
     "output_type": "display_data"
    }
   ],
   "source": [
    "print(\"Perform the fit  y = a + b * x \")\n",
    "nPar  = 2;\n",
    "\n",
    "ax = np.array([0.0,1.0,2.0,3.0,3.4], dtype='d')  # x_1\n",
    "ay = np.array([1.4,1.5,3.7,4.1,7.0], dtype='d')  # y_i\n",
    "ae = np.array([0.5,0.2,1.0,0.5,1.0], dtype='d')  # sigma_i\n",
    "nPnts = len(ax)\n",
    "\n",
    "plt.errorbar(ax, ay, yerr=ae)"
   ]
  },
  {
   "cell_type": "code",
   "execution_count": null,
   "metadata": {},
   "outputs": [
    {
     "data": {
      "text/plain": [
       "matrix([[1. , 0. ],\n",
       "        [1. , 1. ],\n",
       "        [1. , 2. ],\n",
       "        [1. , 3. ],\n",
       "        [1. , 3.4]])"
      ]
     },
     "execution_count": 11,
     "metadata": {},
     "output_type": "execute_result"
    }
   ],
   "source": [
    "A=np.matrix(np.zeros((nPnts, nPar)))\n",
    "#Fill the A matrix\n",
    "for nr in range(nPnts):\n",
    "    for nc in range(nPar):\n",
    "        if nc==0: A[nr,nc] = 1\n",
    "        else: A[nr,nc] = ax[nr]\n",
    "A"
   ]
  },
  {
   "cell_type": "markdown",
   "metadata": {},
   "source": [
    "Apply the weights to A and y:"
   ]
  },
  {
   "cell_type": "code",
   "execution_count": null,
   "metadata": {},
   "outputs": [
    {
     "data": {
      "text/plain": [
       "(matrix([[2. , 0. ],\n",
       "         [5. , 5. ],\n",
       "         [1. , 2. ],\n",
       "         [2. , 6. ],\n",
       "         [1. , 3.4]]),\n",
       " array([[2.8],\n",
       "        [7.5],\n",
       "        [3.7],\n",
       "        [8.2],\n",
       "        [7. ]]))"
      ]
     },
     "execution_count": 12,
     "metadata": {},
     "output_type": "execute_result"
    }
   ],
   "source": [
    "for i in range(nPnts):\n",
    "    A[i] = A[i] / ae[i]\n",
    "yw = (ay/ae).reshape(nPnts,1)\n",
    "A,yw"
   ]
  },
  {
   "cell_type": "code",
   "execution_count": null,
   "metadata": {},
   "outputs": [
    {
     "data": {
      "text/plain": [
       "matrix([[0.42587317],\n",
       "        [1.30411413]])"
      ]
     },
     "execution_count": 13,
     "metadata": {},
     "output_type": "execute_result"
    }
   ],
   "source": [
    "# Solve for the parameters\n",
    "\n",
    "theta =  inv(np.transpose(A).dot(A)).dot(np.transpose(A)).dot(yw)\n",
    "\n",
    "theta"
   ]
  },
  {
   "cell_type": "code",
   "execution_count": null,
   "metadata": {},
   "outputs": [
    {
     "data": {
      "text/plain": [
       "[<matplotlib.lines.Line2D at 0x14a9ca1bc700>]"
      ]
     },
     "execution_count": 9,
     "metadata": {},
     "output_type": "execute_result"
    },
    {
     "data": {
      "image/png": "[encoded data removed]",
      "text/plain": [
       "<Figure size 640x480 with 1 Axes>"
      ]
     },
     "metadata": {},
     "output_type": "display_data"
    }
   ],
   "source": [
    "xi = np.linspace(ax.min(),ax.max())\n",
    "yi = theta[0,0] + theta[1,0]*xi\n",
    "plt.errorbar(ax, ay, yerr=ae)\n",
    "plt.plot(xi,yi,color=\"r\")"
   ]
  },
  {
   "cell_type": "markdown",
   "metadata": {},
   "source": [
    "Go back and add more data points to the data and see how the code adapts to perform your fit."
   ]
  },
  {
   "cell_type": "markdown",
   "metadata": {},
   "source": [
    "# Exercise\n",
    "\n",
    "\n",
    "The functions `getX` and `getY` below are used to generate a random data distribution following a function of logarithmic values.\n",
    "\n",
    "$f(x) = a + b*log(x) + c*log(x)*log(x)$\n",
    "\n",
    "The y-values are randomly generated.  You can run execute the code multiple times to see the distribution changing.\n",
    "\n",
    "Your task is to use the least squares fittng technique using the function above to extract the parameters a, b, c from the fit, based on the generated x, y, ey values.\n",
    "\n",
    "Once you have the fit working, perform the following studies:\n",
    "\n",
    " * Repeat the fit a large number of times on different data sets\n",
    " * Create a 2x2 panel canvas and plot\n",
    "   * (1--3) the distribution of values of a, b, c in three histograms\n",
    "   * (4) calculate the chi^2 for each fit and plot the distribution of the $\\chi^2$ over the experiments\n",
    " * Observe how the extracted parameters fluctuate.  How is this result affected if you increase/decrease the number of points in your experiment or increase/decrease the size of the uncertainties?\n",
    " * Compare the mean and standard deviation of the chi2 distribution to expectations\n",
    " * In a second 2x2 canvas plot\n",
    "   * (1) The values of parameter $b$ vs $a$ over the experiments (2D histogram, use the 'colz' plotting option)\n",
    "   * (2) The values of parameter $c$ vs $a$ over the experiments \n",
    "   * (3) The values of parameter $c$ vs $b$ over the experiments \n",
    "   * (4) The distribution of the *reduced* $\\chi^2$ over the experiments \n",
    "\n",
    "Place your plots and comments into a single PDF file called `LSQFit.pdf` and upload this along with your work to GitHub."
   ]
  },
  {
   "cell_type": "markdown",
   "metadata": {},
   "source": [
    "Below is an illustration of the pseudoexperiments that are generated in the `LSQFit` program that you will modify."
   ]
  },
  {
   "cell_type": "code",
   "execution_count": 27,
   "metadata": {},
   "outputs": [],
   "source": [
    "import ROOT as r\n",
    "import numpy as np\n",
    "from numpy.linalg import inv\n",
    "\n",
    "xmin=1.0\n",
    "xmax=20.0\n",
    "npoints=40\n",
    "sigma=0.5\n",
    "lx=np.zeros(npoints)\n",
    "ly=np.zeros(npoints)\n",
    "ley=np.zeros(npoints)\n",
    "pars=[0.5,1.3,0.5]\n",
    "\n",
    "\n",
    "from math import log\n",
    "def f(x,par):\n",
    "    return par[0]+par[1]*np.log(x)+par[2]*np.log(x)*np.log(x)\n",
    "\n",
    "from random import gauss\n",
    "def getX(x):  # x = array-like\n",
    "    step=(xmax-xmin)/npoints\n",
    "    for i in range(npoints):\n",
    "        x[i]=xmin+i*step\n",
    "        \n",
    "def getY(x,y,ey):  # x,y,ey = array-like\n",
    "    for i in range(npoints):\n",
    "        y[i]=f(x[i],pars)+gauss(0,sigma)\n",
    "        ey[i]=sigma\n",
    "\n",
    "\n",
    "def chi_squared(x, y, y_err, model_func, params):\n",
    "    y_model = model_func(x, params)\n",
    "    residuals = (y - y_model) / y_err\n",
    "    chi2 = np.sum(residuals**2)\n",
    "    return chi2\n",
    "\n",
    "def reduced_chi_squared(x, y, y_err, model_func, params):\n",
    "    \"\"\"\n",
    "    Calculate the reduced chi-squared of a fit.\n",
    "\n",
    "    Parameters\n",
    "    ----------\n",
    "    x : array_like\n",
    "        Independent variable data.\n",
    "    y : array_like\n",
    "        Observed dependent variable data.\n",
    "    y_err : array_like or float\n",
    "        Uncertainties in y data. Can be a single number or an array.\n",
    "    model_func : callable\n",
    "        Model function f(x, *params) used for fitting.\n",
    "    params : list or tuple\n",
    "        Best-fit parameters [A, B, C, ...].\n",
    "    \n",
    "    Returns\n",
    "    -------\n",
    "    float\n",
    "        Reduced chi-squared value.\n",
    "    \"\"\"\n",
    "    dof = len(y) - len(params)\n",
    "    return chi_squared(x,y,y_err,model_func,params) / dof"
   ]
  },
  {
   "cell_type": "code",
   "execution_count": null,
   "metadata": {},
   "outputs": [
    {
     "name": "stdout",
     "output_type": "stream",
     "text": [
      "0.9897197453000797\n",
      "[0.84059677 1.04092973 0.84847797 ... 1.05575435 0.93364013 0.64395492]\n"
     ]
    }
   ],
   "source": [
    "n_trials = 10000\n",
    "n_par = len(pars)\n",
    "\n",
    "a = np.zeros(n_trials)\n",
    "b = np.zeros(n_trials)\n",
    "c = np.zeros(n_trials)\n",
    "chi2 = np.zeros(n_trials)\n",
    "\n",
    "for i in range(n_trials):\n",
    "    # print(i)\n",
    "    # get a random sampling of the (x,y) data points, rerun to generate different data sets for the plot below\n",
    "    getX(lx)\n",
    "    getY(lx,ly,ley)\n",
    "\n",
    "\n",
    "    A=np.matrix(np.zeros((npoints, n_par)))\n",
    "    #Fill the A matrix\n",
    "    for nr in range(npoints):\n",
    "        for nc in range(n_par):\n",
    "            if nc==0: A[nr,nc] = 1.\n",
    "            elif nc==1: A[nr,nc] = log(lx[nr])\n",
    "            else: A[nr,nc] = log(lx[nr])*log(lx[nr])\n",
    "\n",
    "\n",
    "    # apply weights from error to measurements y and matrix A\n",
    "    for j in range(npoints):\n",
    "        A[j] = A[j] / ley[j]\n",
    "    yw = (ly/ley).reshape(npoints,1)\n",
    "\n",
    "    # solve for the parameters\n",
    "    theta =  inv(np.transpose(A).dot(A)).dot(np.transpose(A)).dot(yw)\n",
    "    # print(theta)\n",
    "\n",
    "    # add the parameters to the vectors\n",
    "    a[i] = theta[0,0]\n",
    "    b[i] = theta[1,0]\n",
    "    c[i] = theta[2,0]\n",
    "    chi2[i] = chi_squared(lx, ly, ley, f, [a[i],b[i],c[i]])\n",
    "\n",
    "reduced_chi2 = chi2/(len(ly)-n_par)"
   ]
  },
  {
   "cell_type": "code",
   "execution_count": null,
   "metadata": {},
   "outputs": [
    {
     "name": "stderr",
     "output_type": "stream",
     "text": [
      "Warning in <TCanvas::Constructor>: Deleting canvas with same name: c\n",
      "Warning in <TCanvas::Constructor>: Deleting canvas with same name: c2\n",
      "Warning in <TROOT::Append>: Replacing existing TH1: ha (Potential memory leak).\n",
      "Warning in <TROOT::Append>: Replacing existing TH1: hb (Potential memory leak).\n",
      "Warning in <TROOT::Append>: Replacing existing TH1: hc (Potential memory leak).\n",
      "Warning in <TROOT::Append>: Replacing existing TH1: hchi2 (Potential memory leak).\n",
      "Warning in <TROOT::Append>: Replacing existing TH1: ha (Potential memory leak).\n",
      "Warning in <TROOT::Append>: Replacing existing TH1: hb (Potential memory leak).\n",
      "Warning in <TROOT::Append>: Replacing existing TH1: hc (Potential memory leak).\n",
      "Warning in <TROOT::Append>: Replacing existing TH1: hchi2 (Potential memory leak).\n",
      "Info in <TCanvas::Print>: pdf file LSQFit.pdf has been created using the current canvas\n",
      "Info in <TCanvas::Print>: Current canvas added to pdf file LSQFit.pdf and file closed\n"
     ]
    }
   ],
   "source": [
    "n_bins = 20\n",
    "\n",
    "# Create a canvas for both pages\n",
    "canvas = r.TCanvas(\"c\", \"Parameters\", 800, 600)\n",
    "canvas.Divide(2,2)\n",
    "\n",
    "canvas2 = r.TCanvas(\"c2\", \"Parameters\", 800, 600)\n",
    "canvas2.Divide(2,2)\n",
    "\n",
    "# Create four histograms for each parameter and the chi_squared\n",
    "ha = r.TH1F(\"ha\", \";a;Counts\", n_bins, a.min(), a.max())\n",
    "hb = r.TH1F(\"hb\", \";b;Counts\", n_bins, b.min(), b.max())\n",
    "hc = r.TH1F(\"hc\", \";c;Counts\", n_bins, c.min(), c.max())\n",
    "hchi2 = r.TH1F(\"hchi2\", \";Chi Squared;Counts\", n_bins, chi2.min(), chi2.max())\n",
    "\n",
    "# Create four histograms for ratios of parameters and the reduced chi_squared\n",
    "hba = r.TH2F(\"ha\", \";a;b\", n_bins, a.min(), a.max(), n_bins, b.min(), b.max())\n",
    "hca = r.TH2F(\"hb\", \";a;c\", n_bins, a.min(), a.max(), n_bins, c.min(), c.max())\n",
    "hcb = r.TH2F(\"hc\", \";b;c\", n_bins, b.min(), b.max(), n_bins, c.min(), c.max())\n",
    "hchi2_red = r.TH1F(\"hchi2\", \";Reduced Chi Squared;Counts\", n_bins, reduced_chi2.min(), reduced_chi2.max())\n",
    "\n",
    "# Fill the histograms\n",
    "for i in range(n_trials):\n",
    "    ha.Fill(a[i])\n",
    "    hb.Fill(b[i])\n",
    "    hc.Fill(c[i])\n",
    "    hchi2.Fill(chi2[i])\n",
    "\n",
    "    hba.Fill(a[i], b[i])\n",
    "    hca.Fill(a[i], c[i])\n",
    "    hcb.Fill(b[i], c[i])\n",
    "    hchi2_red.Fill(reduced_chi2[i])\n",
    "\n",
    "\n",
    "# Draw each histogram in its own pad\n",
    "canvas.cd(1)\n",
    "ha.Draw()\n",
    "\n",
    "canvas.cd(2)\n",
    "hb.Draw()\n",
    "\n",
    "canvas.cd(3)\n",
    "hc.Draw()\n",
    "\n",
    "canvas.cd(4)\n",
    "hchi2.Draw()\n",
    "\n",
    "# Update and save\n",
    "canvas.Update()\n",
    "canvas.SaveAs(\"LSQFit.pdf(\") # save this canvas in the first page of the pdf\n",
    "\n",
    "\n",
    "# Draw each histogram in its own pad\n",
    "canvas2.cd(1)\n",
    "hba.Draw(\"COLZ\")\n",
    "\n",
    "canvas2.cd(2)\n",
    "hca.Draw(\"COLZ\")\n",
    "\n",
    "canvas2.cd(3)\n",
    "hcb.Draw(\"COLZ\")\n",
    "\n",
    "canvas2.cd(4)\n",
    "hchi2_red.Draw()\n",
    "\n",
    "canvas2.Update()\n",
    "canvas2.SaveAs(\"LSQFit.pdf)\") # save this canvas to the next page and close the pdf"
   ]
  },
  {
   "cell_type": "markdown",
   "metadata": {},
   "source": [
    "### Testing"
   ]
  },
  {
   "cell_type": "code",
   "execution_count": null,
   "metadata": {},
   "outputs": [
    {
     "data": {
      "text/plain": [
       "matrix([[1.        , 0.        , 0.        ],\n",
       "        [1.        , 0.66782937, 0.44599607],\n",
       "        [1.        , 1.06471074, 1.13360895],\n",
       "        [1.        , 1.34807315, 1.81730121],\n",
       "        [1.        , 1.56861592, 2.4605559 ],\n",
       "        [1.        , 1.74919985, 3.05970013],\n",
       "        [1.        , 1.90210753, 3.61801304],\n",
       "        [1.        , 2.03470565, 4.14002707],\n",
       "        [1.        , 2.1517622 , 4.63008058],\n",
       "        [1.        , 2.25654115, 5.09197798],\n",
       "        [1.        , 2.35137526, 5.5289656 ],\n",
       "        [1.        , 2.43798973, 5.94379392],\n",
       "        [1.        , 2.51769647, 6.33879553],\n",
       "        [1.        , 2.59151638, 6.71595717],\n",
       "        [1.        , 2.66025954, 7.07698081],\n",
       "        [1.        , 2.7245795 , 7.42333347],\n",
       "        [1.        , 2.78501124, 7.75628762],\n",
       "        [1.        , 2.84199817, 8.07695362],\n",
       "        [1.        , 2.89591194, 8.38630595],\n",
       "        [1.        , 2.9470671 , 8.6852045 ]])"
      ]
     },
     "execution_count": 55,
     "metadata": {},
     "output_type": "execute_result"
    }
   ],
   "source": [
    "n_par = len(pars)\n",
    "\n",
    "A=np.matrix(np.zeros((npoints, n_par)))\n",
    "#Fill the A matrix\n",
    "for nr in range(npoints):\n",
    "    for nc in range(n_par):\n",
    "        if nc==0: A[nr,nc] = 1.\n",
    "        elif nc==1: A[nr,nc] = log(lx[nr])\n",
    "        else: A[nr,nc] = log(lx[nr])*log(lx[nr])\n",
    "A"
   ]
  },
  {
   "cell_type": "code",
   "execution_count": null,
   "metadata": {},
   "outputs": [
    {
     "data": {
      "text/plain": [
       "(array([0.59194302, 1.71568263, 2.42594254, 3.26527682, 3.74332939,\n",
       "        4.52141317, 4.84951042, 5.38967444, 5.30216093, 5.96894168,\n",
       "        6.51844406, 6.50271478, 7.01891919, 7.0109435 , 7.59505521,\n",
       "        7.87865622, 8.1056176 , 8.12119426, 8.30832781, 8.80145204]),\n",
       " array([0.2, 0.2, 0.2, 0.2, 0.2, 0.2, 0.2, 0.2, 0.2, 0.2, 0.2, 0.2, 0.2,\n",
       "        0.2, 0.2, 0.2, 0.2, 0.2, 0.2, 0.2]))"
      ]
     },
     "execution_count": 60,
     "metadata": {},
     "output_type": "execute_result"
    }
   ],
   "source": [
    "ly,ley"
   ]
  },
  {
   "cell_type": "code",
   "execution_count": null,
   "metadata": {},
   "outputs": [
    {
     "data": {
      "text/plain": [
       "(matrix([[ 5.        ,  0.        ,  0.        ],\n",
       "         [ 5.        ,  3.33914686,  2.22998035],\n",
       "         [ 5.        ,  5.32355368,  5.66804477],\n",
       "         [ 5.        ,  6.74036574,  9.08650607],\n",
       "         [ 5.        ,  7.84307959, 12.30277949],\n",
       "         [ 5.        ,  8.74599927, 15.29850066],\n",
       "         [ 5.        ,  9.51053763, 18.09006521],\n",
       "         [ 5.        , 10.17352824, 20.70013537],\n",
       "         [ 5.        , 10.75881102, 23.1504029 ],\n",
       "         [ 5.        , 11.28270577, 25.45988991],\n",
       "         [ 5.        , 11.75687629, 27.644828  ],\n",
       "         [ 5.        , 12.18994865, 29.71896962],\n",
       "         [ 5.        , 12.58848236, 31.69397764],\n",
       "         [ 5.        , 12.95758192, 33.57978586],\n",
       "         [ 5.        , 13.30129769, 35.38490403],\n",
       "         [ 5.        , 13.62289752, 37.11666734],\n",
       "         [ 5.        , 13.92505621, 38.7814381 ],\n",
       "         [ 5.        , 14.20999087, 40.38476809],\n",
       "         [ 5.        , 14.47955969, 41.93152977],\n",
       "         [ 5.        , 14.73533551, 43.42602251]]),\n",
       " array([[ 2.95971511],\n",
       "        [ 8.57841316],\n",
       "        [12.12971269],\n",
       "        [16.32638411],\n",
       "        [18.71664694],\n",
       "        [22.60706585],\n",
       "        [24.24755208],\n",
       "        [26.94837218],\n",
       "        [26.51080463],\n",
       "        [29.84470838],\n",
       "        [32.59222028],\n",
       "        [32.51357388],\n",
       "        [35.09459597],\n",
       "        [35.05471748],\n",
       "        [37.97527604],\n",
       "        [39.39328108],\n",
       "        [40.52808802],\n",
       "        [40.60597131],\n",
       "        [41.54163905],\n",
       "        [44.0072602 ]]))"
      ]
     },
     "execution_count": 61,
     "metadata": {},
     "output_type": "execute_result"
    }
   ],
   "source": [
    "# apply weights from error to measurements y and matrix A\n",
    "for i in range(npoints):\n",
    "    A[i] = A[i] / ley[i]\n",
    "yw = (ly/ley).reshape(npoints,1)\n",
    "A,yw"
   ]
  },
  {
   "cell_type": "code",
   "execution_count": null,
   "metadata": {},
   "outputs": [
    {
     "data": {
      "text/plain": [
       "matrix([[0.60374355],\n",
       "        [1.26632242],\n",
       "        [0.49844289]])"
      ]
     },
     "execution_count": 62,
     "metadata": {},
     "output_type": "execute_result"
    }
   ],
   "source": [
    "# Solve for the parameters\n",
    "\n",
    "theta =  inv(np.transpose(A).dot(A)).dot(np.transpose(A)).dot(yw)\n",
    "\n",
    "theta"
   ]
  },
  {
   "cell_type": "code",
   "execution_count": null,
   "metadata": {},
   "outputs": [
    {
     "data": {
      "text/plain": [
       "[<matplotlib.lines.Line2D at 0x14a9c93554e0>]"
      ]
     },
     "execution_count": 63,
     "metadata": {},
     "output_type": "execute_result"
    },
    {
     "data": {
      "image/png": "[encoded data removed]",
      "text/plain": [
       "<Figure size 640x480 with 1 Axes>"
      ]
     },
     "metadata": {},
     "output_type": "display_data"
    }
   ],
   "source": [
    "xi = np.linspace(lx.min(),lx.max())\n",
    "yi = theta[0,0] + theta[1,0]*np.log(xi) + theta[2,0]*np.power(np.log(xi),2)\n",
    "plt.errorbar(lx, ly, yerr=ley)\n",
    "plt.plot(xi,yi,color=\"r\")"
   ]
  },
  {
   "cell_type": "code",
   "execution_count": null,
   "metadata": {},
   "outputs": [],
   "source": []
  }
 ],
 "metadata": {
  "kernelspec": {
   "display_name": "Python 3",
   "language": "python",
   "name": "python3"
  },
  "language_info": {
   "codemirror_mode": {
    "name": "ipython",
    "version": 3
   },
   "file_extension": ".py",
   "mimetype": "text/x-python",
   "name": "python",
   "nbconvert_exporter": "python",
   "pygments_lexer": "ipython3",
   "version": "3.10.15"
  }
 },
 "nbformat": 4,
 "nbformat_minor": 4
}
